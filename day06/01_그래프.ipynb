{
 "cells": [
  {
   "cell_type": "markdown",
   "id": "7f9f63c8",
   "metadata": {},
   "source": [
    "## 그래프\n",
    "\n",
    "### 기본구현\n",
    "\n",
    "#### 깊이 우선 탐색(DFS)\n",
    "\n",
    "<img src=\"../image/ct0011.png\" width=\"400\">"
   ]
  },
  {
   "cell_type": "code",
   "execution_count": null,
   "id": "d34d03a1",
   "metadata": {},
   "outputs": [],
   "source": [
    "# 재귀호출로 구현\n",
    "# 딕셔너리로 인접리스트 생성\n",
    "graph = {\n",
    "    1: [4, 5],\n",
    "    2: [3],\n",
    "    3: [],\n",
    "    4: [2, 3],\n",
    "    5: [1, 4]    # 책 1이 빠졌음. 실행결과는 동일.\n",
    "}\n",
    "\n",
    "# 방문여부 표시하는 배열\n",
    "visited = [False] * (len(graph) + 1)   # 배열 인덱스 0 때문에 한개 더 많이 배열 생성\n",
    "\n",
    "def dfs(curr_node):\n",
    "    # 현재노드 방문\n",
    "    visited[curr_node] = True\n",
    "    print(curr_node, end=\" \") # 한줄로 나오도록\n",
    "\n",
    "    # 현재노드와 인접한 노드 순회\n",
    "    for adj_node in graph[curr_node]:\n",
    "        if not visited[adj_node]:\n",
    "            dfs(adj_node)   # 재귀호출 --> 스택을 사용. 재귀호출이 종료되면 자동생성된 메모리상의 스택에서 자동 팝"
   ]
  },
  {
   "cell_type": "code",
   "execution_count": 17,
   "id": "623b9f32",
   "metadata": {},
   "outputs": [
    {
     "name": "stdout",
     "output_type": "stream",
     "text": [
      "1 4 2 3 5 "
     ]
    }
   ],
   "source": [
    "result = dfs(1)"
   ]
  },
  {
   "cell_type": "markdown",
   "id": "0b9f8584",
   "metadata": {},
   "source": [
    "- 자료구조 알고리즘 과목에서 인접행렬에 스택을 직접구현 : 재귀호출보다 소스코드가 길다"
   ]
  },
  {
   "cell_type": "markdown",
   "id": "ced562b0",
   "metadata": {},
   "source": [
    "#### 너비 우선 탐색(BFS)"
   ]
  },
  {
   "cell_type": "code",
   "execution_count": 21,
   "id": "43054a7c",
   "metadata": {},
   "outputs": [],
   "source": [
    "from collections import deque\n",
    "\n",
    "# 딕셔너리로 인접리스트 생성\n",
    "graph = {\n",
    "    1: [4, 5],\n",
    "    2: [3],\n",
    "    3: [],\n",
    "    4: [2, 3],\n",
    "    5: [1, 4]\n",
    "}\n",
    "\n",
    "def bfs(start_node):\n",
    "    visited = [False] * (len(graph) + 1)   # 배열 인덱스 0 때문에 한개 더 많이 배열 생성\n",
    "\n",
    "    # 시작노드 방문처리\n",
    "    queue = deque([start_node])\n",
    "    visited[start_node] = True  # 방문처리1\n",
    "    \n",
    "    while queue: # 큐가 완전히 empty가 될때까지\n",
    "        # 가장먼저 푸시(deQueue)된 노드 방문\n",
    "        node = queue.popleft()\n",
    "        print(node, end=' ')\n",
    "\n",
    "        # 인접노드 순회\n",
    "        for adj_node in graph[node]:   # 방문한 노드에서 인접노드를 반복\n",
    "            if not visited[adj_node]:\n",
    "                queue.append(adj_node)  # 새로 방문한 노드를 큐에 삽입\n",
    "                visited[adj_node] = True  # 방문처리2"
   ]
  },
  {
   "cell_type": "code",
   "execution_count": 22,
   "id": "22683e59",
   "metadata": {},
   "outputs": [
    {
     "name": "stdout",
     "output_type": "stream",
     "text": [
      "1 4 5 2 3 "
     ]
    }
   ],
   "source": [
    "bfs(1)"
   ]
  },
  {
   "cell_type": "markdown",
   "id": "432ec47e",
   "metadata": {},
   "source": [
    "### 몸풀기 문제\n",
    "\n",
    "#### 다익스트라 알고리즘"
   ]
  },
  {
   "cell_type": "code",
   "execution_count": null,
   "id": "a0c43d14",
   "metadata": {},
   "outputs": [],
   "source": [
    "import heapq\n",
    "from collections import defaultdict\n",
    "\n",
    "INF = 9999999999  # 엄청 큰수로 무한대 표시\n",
    "\n",
    "def solution(start, num_nodes, edges):\n",
    "    # 그래프 초기화\n",
    "    graph = defaultdict(list)\n",
    "    \n",
    "    for from_node, to_node, weight in edges:\n",
    "        graph[from_node].append((to_node, weight))\n",
    "\n",
    "    # 최단 경로 길의 방문이력 최적화\n",
    "    distances = [INF] * num_nodes\n",
    "    visited = [False] * num_nodes\n",
    "    distances[start] = 0\n",
    "\n",
    "    # 우선순위 큐\n",
    "    queue = [(start, 0)]   # 시작노드, 가중치\n",
    "\n",
    "    while queue:  # queue가 empty아닌 동안\n",
    "        # 현재 노드 찾기\n",
    "        cur_node, _ = heapq.heappop(queue)  # (0, 0)\n",
    "\n",
    "        # 이미 방문한 노드라면 패스\n",
    "        if visited[cur_node]:\n",
    "            continue\n",
    "\n",
    "        # 현재 노드를 방문처리\n",
    "        visited[cur_node] = True\n",
    "\n",
    "        # 인접노드에 대한 거리 업데이트\n",
    "        for neighbor, weight in graph[cur_node]:\n",
    "            new_distance = distances[cur_node] + weight\n",
    "            if new_distance < distances[neighbor]:\n",
    "                distances[neighbor] = new_distance\n",
    "                heapq.heappush(queue, (neighbor, new_distance)) # 큐에 방문할 노드 추가\n",
    "\n",
    "    return distances"
   ]
  },
  {
   "cell_type": "markdown",
   "id": "8eff4b25",
   "metadata": {},
   "source": [
    "<img src=\"../image/ct0012.png\" width=\"350\">"
   ]
  },
  {
   "cell_type": "code",
   "execution_count": 43,
   "id": "601a3020",
   "metadata": {},
   "outputs": [
    {
     "data": {
      "text/plain": [
       "[0, 4, 3]"
      ]
     },
     "execution_count": 43,
     "metadata": {},
     "output_type": "execute_result"
    }
   ],
   "source": [
    "solution(0, 3, [[0,1,9], [0,2,3], [1,0,5],[2,1,1]])"
   ]
  },
  {
   "cell_type": "markdown",
   "id": "92e8e4a5",
   "metadata": {},
   "source": [
    "<img src=\"../image/ct0013.png\" width=\"350\">"
   ]
  },
  {
   "cell_type": "code",
   "execution_count": 44,
   "id": "993686e6",
   "metadata": {},
   "outputs": [
    {
     "data": {
      "text/plain": [
       "[0, 1, 6, 7]"
      ]
     },
     "execution_count": 44,
     "metadata": {},
     "output_type": "execute_result"
    }
   ],
   "source": [
    "solution(0, 4, [[0,1,1], [1,2,5], [2,3,1]])"
   ]
  },
  {
   "cell_type": "markdown",
   "id": "cbdb8f12",
   "metadata": {},
   "source": [
    "#### 벨만-포드 알고리즘\n",
    "\n",
    "<img src=\"../image/ct0014.png\" width=\"700\">"
   ]
  },
  {
   "cell_type": "code",
   "execution_count": 46,
   "id": "a683d82c",
   "metadata": {},
   "outputs": [],
   "source": [
    "INF = 9999999999\n",
    "\n",
    "def solution(num_vertices, edges, source):\n",
    "    # 간선정보를 활용해서 인접리스트 생성\n",
    "    graph = [[] for _ in range(num_vertices)]\n",
    "    for edge in edges:\n",
    "        from_vtx, to_vtx, weight = edge\n",
    "        graph[from_vtx].append((to_vtx, weight))\n",
    "\n",
    "    # print(graph)\n",
    "\n",
    "    distances = [INF] * num_vertices\n",
    "    distances[source] = 0\n",
    "\n",
    "    # 정점개수 -1만큼 최소 비용 갱신\n",
    "    for _ in range(num_vertices - 1):\n",
    "        for u in range(num_vertices):\n",
    "            for v, weight in graph[u]:\n",
    "                if distances[u] + weight < distances[v]:\n",
    "                    distances[v] = distances[u] + weight\n",
    "\n",
    "    \n",
    "    # 음의 순환이 있는지 확인\n",
    "    for u in range(num_vertices):\n",
    "        for v, weight in graph[u]:\n",
    "            if distances[u] + weight < distances[v]:\n",
    "                return [-1]  # 순환이 마무리 되었는데 다시 반복을 또 값이 줄어는 것을 확인(음의 순환!)\n",
    "\n",
    "    return distances"
   ]
  },
  {
   "cell_type": "code",
   "execution_count": 47,
   "id": "1f41cecd",
   "metadata": {},
   "outputs": [
    {
     "data": {
      "text/plain": [
       "[0, -2, -4, 3, -6]"
      ]
     },
     "execution_count": 47,
     "metadata": {},
     "output_type": "execute_result"
    }
   ],
   "source": [
    "# [0, -2, -4, 3, -6]\n",
    "solution(5, [[0,1,4],[0,2,3],[0,4,-6],[1,3,5],[2,1,2],[3,0,7],[3,2,4],[4,2,2]], 0)"
   ]
  },
  {
   "cell_type": "code",
   "execution_count": 48,
   "id": "34c088ef",
   "metadata": {},
   "outputs": [
    {
     "data": {
      "text/plain": [
       "[-1]"
      ]
     },
     "execution_count": 48,
     "metadata": {},
     "output_type": "execute_result"
    }
   ],
   "source": [
    "# -1\n",
    "solution(4, [[0,1,5],[0,2,-1],[1,2,2],[2,3,-2],[3,0,2],[3,1,6]], 0)"
   ]
  },
  {
   "cell_type": "markdown",
   "id": "459fcb3a",
   "metadata": {},
   "source": [
    "- BFS/DFS는 거의 그래프 그림이 존재\n",
    "- 가중치가 있고 최소비용 -> 다익스트라\n",
    "- 음수가 있으면 벨만포드"
   ]
  },
  {
   "cell_type": "markdown",
   "id": "a4defbcf",
   "metadata": {},
   "source": [
    "### 모의 테스트\n",
    "\n",
    "#### 게임 맵 최단거리\n",
    "\n",
    "- "
   ]
  },
  {
   "cell_type": "code",
   "execution_count": 34,
   "id": "f2590258",
   "metadata": {},
   "outputs": [],
   "source": [
    "# 코딩테스트 시 큐를 구현하려면 deque를 사용할 것(속도)\n",
    "from collections import deque\n",
    "\n",
    "def solution(maps):\n",
    "    # 이동할 수 있는 방향 정의 U,L,R,D (본인이 원하는 방향을 정하고 로직에서 인덱스만 잘 맞추면 됨)\n",
    "    move = [[-1,0],[0,-1],[0,1],[1,0]]  # 행과 열로 구성 U,L,R,D\n",
    "\n",
    "    # 맵 크기 초기화\n",
    "    n = len(maps)  # 행\n",
    "    m = len(maps[0]) # 열\n",
    "\n",
    "    # 거리를 저장하는 2차원 배열\n",
    "    distance = [[-1] * m for _ in range(n)]\n",
    "\n",
    "    # BFS이므로 큐를 생성\n",
    "    queue = deque([[0,0]])\n",
    "    distance[0][0] = 1\n",
    "    print(distance)\n",
    "\n",
    "    while queue:  # 큐에 데이터가 남아있는 동안\n",
    "        cur_loc = queue.popleft()\n",
    "\n",
    "        for direct in move:  # 방향이 L,D,U,R 4개니까 방향따라서 4번 반복\n",
    "            row, column = cur_loc[0] + direct[0], cur_loc[1] + direct[1]\n",
    "\n",
    "            # 이동한 위치가 범위를 벗어나는지 확인\n",
    "            if row < 0 or row >= n or column < 0 or column >= m:\n",
    "                continue  # 아무 처리하지 않고 다음 반복문 처리\n",
    "\n",
    "            # 이동한 위치에 벽이 있으면 처리못함\n",
    "            if maps[row][column] == 0:\n",
    "                continue\n",
    "\n",
    "            # 이동한 위치가 처음 방문한 경우, deque에 추가하고 거리 갱신\n",
    "            if distance[row][column] == -1:\n",
    "                queue.append([row, column])\n",
    "                distance[row][column] = distance[cur_loc[0]][cur_loc[1]] + 1\n",
    "\n",
    "    return distance[n-1][m-1]"
   ]
  },
  {
   "cell_type": "code",
   "execution_count": 35,
   "id": "425cb9a6",
   "metadata": {},
   "outputs": [
    {
     "name": "stdout",
     "output_type": "stream",
     "text": [
      "[[1, -1, -1, -1, -1], [-1, -1, -1, -1, -1], [-1, -1, -1, -1, -1], [-1, -1, -1, -1, -1], [-1, -1, -1, -1, -1]]\n"
     ]
    },
    {
     "data": {
      "text/plain": [
       "11"
      ]
     },
     "execution_count": 35,
     "metadata": {},
     "output_type": "execute_result"
    }
   ],
   "source": [
    "# 기대값 11\n",
    "solution([[1,0,1,1,1],[1,0,1,0,1],[1,0,1,1,1],[1,1,1,0,1],[0,0,0,0,1]])"
   ]
  },
  {
   "cell_type": "code",
   "execution_count": 36,
   "id": "21731b4d",
   "metadata": {},
   "outputs": [
    {
     "name": "stdout",
     "output_type": "stream",
     "text": [
      "[[1, -1, -1, -1, -1], [-1, -1, -1, -1, -1], [-1, -1, -1, -1, -1], [-1, -1, -1, -1, -1], [-1, -1, -1, -1, -1]]\n"
     ]
    },
    {
     "data": {
      "text/plain": [
       "-1"
      ]
     },
     "execution_count": 36,
     "metadata": {},
     "output_type": "execute_result"
    }
   ],
   "source": [
    "# 기대값 -1\n",
    "solution([[1,0,1,1,1],[1,0,1,0,1],[1,0,1,1,1],[1,1,1,0,0],[0,0,0,0,1]])"
   ]
  },
  {
   "cell_type": "markdown",
   "id": "1d941b98",
   "metadata": {},
   "source": [
    "- BFS는 추가적인 다른 함수를 만들 필요가 없음\n",
    "- DFS는 재귀호출이 대부분이기 때문에 함수정의 필요"
   ]
  }
 ],
 "metadata": {
  "kernelspec": {
   "display_name": "3.11.9",
   "language": "python",
   "name": "python3"
  },
  "language_info": {
   "codemirror_mode": {
    "name": "ipython",
    "version": 3
   },
   "file_extension": ".py",
   "mimetype": "text/x-python",
   "name": "python",
   "nbconvert_exporter": "python",
   "pygments_lexer": "ipython3",
   "version": "3.11.9"
  }
 },
 "nbformat": 4,
 "nbformat_minor": 5
}
